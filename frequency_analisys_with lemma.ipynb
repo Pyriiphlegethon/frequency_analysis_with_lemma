{
  "cells": [
    {
      "cell_type": "markdown",
      "metadata": {
        "id": "l8eem9yerYiu"
      },
      "source": [
        "# Частотный анализ русского текста и построение облака слов"
      ]
    },
    {
      "cell_type": "markdown",
      "metadata": {
        "id": "KjWaSNOXrYiy"
      },
      "source": [
        "## Загрузка и отображение данных"
      ]
    },
    {
      "cell_type": "code",
      "execution_count": null,
      "metadata": {
        "id": "Y74S5SkHrYiy"
      },
      "outputs": [],
      "source": [
        "f = open('ecom.txt', \"r\", encoding=\"utf-8\")\n",
        "text = f.read()"
      ]
    },
    {
      "cell_type": "code",
      "execution_count": null,
      "metadata": {
        "id": "rkM1KvE1rYi2",
        "outputId": "ce5de9cb-42e0-4174-8ecf-c55a54573bae",
        "colab": {
          "base_uri": "https://localhost:8080/"
        }
      },
      "outputs": [
        {
          "output_type": "execute_result",
          "data": {
            "text/plain": [
              "496709"
            ]
          },
          "metadata": {},
          "execution_count": 3
        }
      ],
      "source": [
        "len(text)"
      ]
    },
    {
      "cell_type": "markdown",
      "metadata": {
        "id": "suPT7BfurYi3"
      },
      "source": [
        "## Предварительная обработка текста"
      ]
    },
    {
      "cell_type": "code",
      "execution_count": null,
      "metadata": {
        "id": "BmdK11psrYi3"
      },
      "outputs": [],
      "source": [
        "# перевод в единый регистр (например, нижний)\n",
        "text = text.lower()"
      ]
    },
    {
      "cell_type": "code",
      "execution_count": null,
      "metadata": {
        "id": "fA7JY9IArYi3"
      },
      "outputs": [],
      "source": [
        "import string\n",
        "string.punctuation"
      ]
    },
    {
      "cell_type": "code",
      "execution_count": null,
      "metadata": {
        "id": "UgGK6B-FrYi4"
      },
      "outputs": [],
      "source": [
        "spec_chars = string.punctuation + '\\n\\xa0«»\\t—…'"
      ]
    },
    {
      "cell_type": "code",
      "execution_count": null,
      "metadata": {
        "id": "k1C231eqrYi4"
      },
      "outputs": [],
      "source": [
        "%%time\n",
        "text = \"\".join([ch for ch in text if ch not in spec_chars])"
      ]
    },
    {
      "cell_type": "code",
      "execution_count": null,
      "metadata": {
        "id": "F3rDNGc-rYi4"
      },
      "outputs": [],
      "source": [
        "import re\n",
        "text = re.sub('\\n', '', text)"
      ]
    },
    {
      "cell_type": "code",
      "execution_count": null,
      "metadata": {
        "id": "uS0bqmOurYi5"
      },
      "outputs": [],
      "source": [
        "def remove_chars_from_text(text, chars):\n",
        "    return \"\".join([ch for ch in text if ch not in chars])"
      ]
    },
    {
      "cell_type": "code",
      "execution_count": null,
      "metadata": {
        "id": "IY8vshBarYi5"
      },
      "outputs": [],
      "source": [
        "%%time\n",
        "text = remove_chars_from_text(text, spec_chars)"
      ]
    },
    {
      "cell_type": "code",
      "execution_count": null,
      "metadata": {
        "id": "FBw-XAcWrYi5"
      },
      "outputs": [],
      "source": [
        "%%time\n",
        "text = remove_chars_from_text(text, string.digits)"
      ]
    },
    {
      "cell_type": "markdown",
      "source": [
        "# Лемматизация"
      ],
      "metadata": {
        "id": "N9soodkBXCH3"
      }
    },
    {
      "cell_type": "code",
      "source": [
        "from pymystem3 import Mystem\n",
        "\n",
        "m = Mystem()\n",
        "text_tokens = m.lemmatize(text)\n",
        "#print(''.join(lemmas))\n",
        "#print(lemmas)"
      ],
      "metadata": {
        "id": "gYyvk11xrf4y"
      },
      "execution_count": null,
      "outputs": []
    },
    {
      "cell_type": "markdown",
      "metadata": {
        "id": "kJSsTDw9rYi6"
      },
      "source": [
        "## Расчёт растоты встречаемости слов"
      ]
    },
    {
      "cell_type": "code",
      "execution_count": null,
      "metadata": {
        "id": "6mmyAJoUrYi6"
      },
      "outputs": [],
      "source": [
        "%%time\n",
        "from nltk.probability import FreqDist\n",
        "fdist = FreqDist(text)\n",
        "fdist"
      ]
    },
    {
      "cell_type": "code",
      "execution_count": null,
      "metadata": {
        "id": "6lBTZ_GurYi7"
      },
      "outputs": [],
      "source": [
        "fdist.most_common(5)"
      ]
    },
    {
      "cell_type": "code",
      "execution_count": null,
      "metadata": {
        "id": "RzVMgBJorYi7"
      },
      "outputs": [],
      "source": [
        "fdist.plot(50,cumulative=False)"
      ]
    },
    {
      "cell_type": "markdown",
      "metadata": {
        "id": "VEGar0TqrYi7"
      },
      "source": [
        "## Удаление стоп-слов"
      ]
    },
    {
      "cell_type": "code",
      "execution_count": null,
      "metadata": {
        "id": "jHCzjeg5rYi7",
        "outputId": "94339bd6-11b3-4405-fd5b-e62135cf01c6",
        "colab": {
          "base_uri": "https://localhost:8080/"
        }
      },
      "outputs": [
        {
          "output_type": "stream",
          "name": "stderr",
          "text": [
            "[nltk_data] Downloading package stopwords to /root/nltk_data...\n",
            "[nltk_data]   Package stopwords is already up-to-date!\n"
          ]
        }
      ],
      "source": [
        "import nltk\n",
        "nltk.download('stopwords')\n",
        "from nltk.corpus import stopwords\n",
        "russian_stopwords = stopwords.words(\"russian\")\n",
        "russian_stopwords.extend(['это', 'нею', ' ', 'цена', 'товар', 'страна', 'весь', 'id', 'get', 'акция', 'post','данный','который', 'необходимо' ])"
      ]
    },
    {
      "cell_type": "code",
      "execution_count": null,
      "metadata": {
        "id": "fwYWlqzwrYi7",
        "outputId": "1e039a7d-d65b-4bbe-90ce-67a4b4ae10e0",
        "colab": {
          "base_uri": "https://localhost:8080/"
        }
      },
      "outputs": [
        {
          "output_type": "stream",
          "name": "stdout",
          "text": [
            "165\n"
          ]
        }
      ],
      "source": [
        "print(len(russian_stopwords))\n",
        "# russian_stopwords"
      ]
    },
    {
      "cell_type": "code",
      "execution_count": null,
      "metadata": {
        "id": "9LhnhzKorYi8",
        "outputId": "be815d37-5e95-4427-efe7-94f451832385",
        "colab": {
          "base_uri": "https://localhost:8080/"
        }
      },
      "outputs": [
        {
          "output_type": "stream",
          "name": "stdout",
          "text": [
            "CPU times: user 78.8 ms, sys: 0 ns, total: 78.8 ms\n",
            "Wall time: 80 ms\n"
          ]
        }
      ],
      "source": [
        "%%time\n",
        "text_tokens = [token.strip() for token in text_tokens if token not in russian_stopwords]"
      ]
    },
    {
      "cell_type": "code",
      "execution_count": null,
      "metadata": {
        "id": "3nPe_UgVrYi8",
        "outputId": "92a9d0a7-06d6-449c-da1b-92d61b438233",
        "colab": {
          "base_uri": "https://localhost:8080/"
        }
      },
      "outputs": [
        {
          "output_type": "stream",
          "name": "stdout",
          "text": [
            "30455\n"
          ]
        }
      ],
      "source": [
        "print(len(text_tokens))"
      ]
    },
    {
      "cell_type": "code",
      "execution_count": null,
      "metadata": {
        "id": "lNZeoyQTrYi8"
      },
      "outputs": [],
      "source": [
        "text = nltk.Text(text_tokens)"
      ]
    },
    {
      "cell_type": "code",
      "execution_count": null,
      "metadata": {
        "id": "jR9R57pcrYi8"
      },
      "outputs": [],
      "source": [
        "fdist_sw = FreqDist(text)\n",
        "fdist_sw.most_common(100)"
      ]
    },
    {
      "cell_type": "markdown",
      "metadata": {
        "id": "Y6xNQZkhrYi8"
      },
      "source": [
        "## Построение облака слов"
      ]
    },
    {
      "cell_type": "code",
      "execution_count": null,
      "metadata": {
        "id": "9BI1TAZZrYi9"
      },
      "outputs": [],
      "source": [
        "from wordcloud import WordCloud\n",
        "import matplotlib.pyplot as plt\n",
        "%matplotlib inline"
      ]
    },
    {
      "cell_type": "code",
      "execution_count": null,
      "metadata": {
        "id": "_tlj83IHrYi9"
      },
      "outputs": [],
      "source": [
        "text_raw = \" \".join(text)"
      ]
    },
    {
      "cell_type": "code",
      "execution_count": null,
      "metadata": {
        "id": "UZtpK5qUrYi9"
      },
      "outputs": [],
      "source": [
        "wordcloud = WordCloud().generate(text_raw)"
      ]
    },
    {
      "cell_type": "code",
      "execution_count": null,
      "metadata": {
        "id": "ygk64ZQZrYi9"
      },
      "outputs": [],
      "source": [
        "plt.imshow(wordcloud, interpolation='bilinear')\n",
        "plt.axis(\"off\")\n",
        "plt.show()"
      ]
    }
  ],
  "metadata": {
    "kernelspec": {
      "display_name": "Python 3",
      "language": "python",
      "name": "python3"
    },
    "language_info": {
      "codemirror_mode": {
        "name": "ipython",
        "version": 3
      },
      "file_extension": ".py",
      "mimetype": "text/x-python",
      "name": "python",
      "nbconvert_exporter": "python",
      "pygments_lexer": "ipython3",
      "version": "3.7.6"
    },
    "colab": {
      "provenance": []
    }
  },
  "nbformat": 4,
  "nbformat_minor": 0
}